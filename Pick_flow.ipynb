{
  "nbformat": 4,
  "nbformat_minor": 0,
  "metadata": {
    "colab": {
      "name": "Pick_flow.ipynb",
      "provenance": [],
      "collapsed_sections": [],
      "authorship_tag": "ABX9TyNLtORiGnoUnyjWhZCL1CUH",
      "include_colab_link": true
    },
    "kernelspec": {
      "name": "python3",
      "display_name": "Python 3"
    },
    "language_info": {
      "name": "python"
    },
    "accelerator": "GPU"
  },
  "cells": [
    {
      "cell_type": "markdown",
      "metadata": {
        "id": "view-in-github",
        "colab_type": "text"
      },
      "source": [
        "<a href=\"https://colab.research.google.com/github/SwathiYanture/Chatbot/blob/master/Pick_flow.ipynb\" target=\"_parent\"><img src=\"https://colab.research.google.com/assets/colab-badge.svg\" alt=\"Open In Colab\"/></a>"
      ]
    },
    {
      "cell_type": "code",
      "metadata": {
        "id": "e0wa0gvb4Bfu"
      },
      "source": [
        "from google.colab import drive"
      ],
      "execution_count": 6,
      "outputs": []
    },
    {
      "cell_type": "code",
      "metadata": {
        "colab": {
          "base_uri": "https://localhost:8080/",
          "height": 35
        },
        "id": "g_a2OoJkreVi",
        "outputId": "d02792c7-09bb-4ee0-a7b9-ebc36ea3c04e"
      },
      "source": [
        "%pwd"
      ],
      "execution_count": 8,
      "outputs": [
        {
          "output_type": "execute_result",
          "data": {
            "application/vnd.google.colaboratory.intrinsic+json": {
              "type": "string"
            },
            "text/plain": [
              "'/content/gdrive/My Drive/my_projects/PICK-pytorch'"
            ]
          },
          "metadata": {
            "tags": []
          },
          "execution_count": 8
        }
      ]
    },
    {
      "cell_type": "code",
      "metadata": {
        "colab": {
          "base_uri": "https://localhost:8080/"
        },
        "id": "g0RTzx0geYEP",
        "outputId": "8ab934e6-ca57-401c-95ec-42f862173e36"
      },
      "source": [
        "drive.mount('/content/gdrive')"
      ],
      "execution_count": 7,
      "outputs": [
        {
          "output_type": "stream",
          "text": [
            "Drive already mounted at /content/gdrive; to attempt to forcibly remount, call drive.mount(\"/content/gdrive\", force_remount=True).\n"
          ],
          "name": "stdout"
        }
      ]
    },
    {
      "cell_type": "code",
      "metadata": {
        "colab": {
          "base_uri": "https://localhost:8080/"
        },
        "id": "SSMfs4PfexPg",
        "outputId": "d5a15e7a-bd01-4e81-dab3-da8fdd7c1b82"
      },
      "source": [
        "! ls"
      ],
      "execution_count": null,
      "outputs": [
        {
          "output_type": "stream",
          "text": [
            "gdrive\tsample_data\n"
          ],
          "name": "stdout"
        }
      ]
    },
    {
      "cell_type": "code",
      "metadata": {
        "colab": {
          "base_uri": "https://localhost:8080/"
        },
        "id": "ckF2nqsa7MnN",
        "outputId": "d4948dba-800d-4bad-aa34-1593fb9b0b20"
      },
      "source": [
        "%cd gdrive/My Drive/my_projects/PICK-pytorch"
      ],
      "execution_count": null,
      "outputs": [
        {
          "output_type": "stream",
          "text": [
            "/content/gdrive/My Drive/my_projects/PICK-pytorch\n"
          ],
          "name": "stdout"
        }
      ]
    },
    {
      "cell_type": "code",
      "metadata": {
        "colab": {
          "base_uri": "https://localhost:8080/"
        },
        "id": "PK5C2z-b8Fhb",
        "outputId": "f4a795a7-47fb-411a-8bbb-c369e4f1ac2c"
      },
      "source": [
        "#!git clone https://github.com/wenwenyu/PICK-pytorch.git"
      ],
      "execution_count": null,
      "outputs": [
        {
          "output_type": "stream",
          "text": [
            "Cloning into 'PICK-pytorch'...\n",
            "remote: Enumerating objects: 293, done.\u001b[K\n",
            "remote: Counting objects: 100% (37/37), done.\u001b[K\n",
            "remote: Compressing objects: 100% (27/27), done.\u001b[K\n",
            "remote: Total 293 (delta 19), reused 24 (delta 10), pack-reused 256\u001b[K\n",
            "Receiving objects: 100% (293/293), 9.99 MiB | 11.47 MiB/s, done.\n",
            "Resolving deltas: 100% (134/134), done.\n",
            "Checking out files: 100% (59/59), done.\n"
          ],
          "name": "stdout"
        }
      ]
    },
    {
      "cell_type": "code",
      "metadata": {
        "colab": {
          "base_uri": "https://localhost:8080/"
        },
        "id": "4-ZFJxXt8rSP",
        "outputId": "067ba875-d0f4-4440-8079-7671752fb3a0"
      },
      "source": [
        "%pip install -r requirements.txt"
      ],
      "execution_count": null,
      "outputs": [
        {
          "output_type": "stream",
          "text": [
            "Requirement already satisfied: torchvision==0.6.1 in /usr/local/lib/python3.7/dist-packages (from -r requirements.txt (line 1)) (0.6.1)\n",
            "Requirement already satisfied: tabulate==0.8.7 in /usr/local/lib/python3.7/dist-packages (from -r requirements.txt (line 2)) (0.8.7)\n",
            "Requirement already satisfied: overrides==3.0.0 in /usr/local/lib/python3.7/dist-packages (from -r requirements.txt (line 3)) (3.0.0)\n",
            "Requirement already satisfied: opencv_python==4.3.0.36 in /usr/local/lib/python3.7/dist-packages (from -r requirements.txt (line 4)) (4.3.0.36)\n",
            "Requirement already satisfied: numpy==1.16.4 in /usr/local/lib/python3.7/dist-packages (from -r requirements.txt (line 5)) (1.16.4)\n",
            "Requirement already satisfied: pandas==1.0.5 in /usr/local/lib/python3.7/dist-packages (from -r requirements.txt (line 6)) (1.0.5)\n",
            "Requirement already satisfied: allennlp==1.0.0 in /usr/local/lib/python3.7/dist-packages (from -r requirements.txt (line 7)) (1.0.0)\n",
            "Requirement already satisfied: torchtext==0.6.0 in /usr/local/lib/python3.7/dist-packages (from -r requirements.txt (line 8)) (0.6.0)\n",
            "Requirement already satisfied: tqdm==4.47.0 in /usr/local/lib/python3.7/dist-packages (from -r requirements.txt (line 9)) (4.47.0)\n",
            "Requirement already satisfied: torch==1.5.1 in /usr/local/lib/python3.7/dist-packages (from -r requirements.txt (line 10)) (1.5.1)\n",
            "Requirement already satisfied: pillow>=4.1.1 in /usr/local/lib/python3.7/dist-packages (from torchvision==0.6.1->-r requirements.txt (line 1)) (7.1.2)\n",
            "Requirement already satisfied: pytz>=2017.2 in /usr/local/lib/python3.7/dist-packages (from pandas==1.0.5->-r requirements.txt (line 6)) (2018.9)\n",
            "Requirement already satisfied: python-dateutil>=2.6.1 in /usr/local/lib/python3.7/dist-packages (from pandas==1.0.5->-r requirements.txt (line 6)) (2.8.1)\n",
            "Requirement already satisfied: pytest in /usr/local/lib/python3.7/dist-packages (from allennlp==1.0.0->-r requirements.txt (line 7)) (3.6.4)\n",
            "Requirement already satisfied: spacy<2.3,>=2.1.0 in /usr/local/lib/python3.7/dist-packages (from allennlp==1.0.0->-r requirements.txt (line 7)) (2.2.4)\n",
            "Requirement already satisfied: boto3 in /usr/local/lib/python3.7/dist-packages (from allennlp==1.0.0->-r requirements.txt (line 7)) (1.17.101)\n",
            "Requirement already satisfied: tensorboardX>=1.2 in /usr/local/lib/python3.7/dist-packages (from allennlp==1.0.0->-r requirements.txt (line 7)) (2.3)\n",
            "Requirement already satisfied: h5py in /usr/local/lib/python3.7/dist-packages (from allennlp==1.0.0->-r requirements.txt (line 7)) (3.1.0)\n",
            "Requirement already satisfied: jsonpickle in /usr/local/lib/python3.7/dist-packages (from allennlp==1.0.0->-r requirements.txt (line 7)) (2.0.0)\n",
            "Requirement already satisfied: scipy in /usr/local/lib/python3.7/dist-packages (from allennlp==1.0.0->-r requirements.txt (line 7)) (1.4.1)\n",
            "Requirement already satisfied: requests>=2.18 in /usr/local/lib/python3.7/dist-packages (from allennlp==1.0.0->-r requirements.txt (line 7)) (2.23.0)\n",
            "Requirement already satisfied: jsonnet>=0.10.0; sys_platform != \"win32\" in /usr/local/lib/python3.7/dist-packages (from allennlp==1.0.0->-r requirements.txt (line 7)) (0.17.0)\n",
            "Requirement already satisfied: nltk in /usr/local/lib/python3.7/dist-packages (from allennlp==1.0.0->-r requirements.txt (line 7)) (3.2.5)\n",
            "Requirement already satisfied: scikit-learn in /usr/local/lib/python3.7/dist-packages (from allennlp==1.0.0->-r requirements.txt (line 7)) (0.22.2.post1)\n",
            "Requirement already satisfied: transformers<2.12,>=2.9 in /usr/local/lib/python3.7/dist-packages (from allennlp==1.0.0->-r requirements.txt (line 7)) (2.11.0)\n",
            "Requirement already satisfied: filelock<3.1,>=3.0 in /usr/local/lib/python3.7/dist-packages (from allennlp==1.0.0->-r requirements.txt (line 7)) (3.0.12)\n",
            "Requirement already satisfied: sentencepiece in /usr/local/lib/python3.7/dist-packages (from torchtext==0.6.0->-r requirements.txt (line 8)) (0.1.96)\n",
            "Requirement already satisfied: six in /usr/local/lib/python3.7/dist-packages (from torchtext==0.6.0->-r requirements.txt (line 8)) (1.15.0)\n",
            "Requirement already satisfied: future in /usr/local/lib/python3.7/dist-packages (from torch==1.5.1->-r requirements.txt (line 10)) (0.16.0)\n",
            "Requirement already satisfied: atomicwrites>=1.0 in /usr/local/lib/python3.7/dist-packages (from pytest->allennlp==1.0.0->-r requirements.txt (line 7)) (1.4.0)\n",
            "Requirement already satisfied: more-itertools>=4.0.0 in /usr/local/lib/python3.7/dist-packages (from pytest->allennlp==1.0.0->-r requirements.txt (line 7)) (8.8.0)\n",
            "Requirement already satisfied: attrs>=17.4.0 in /usr/local/lib/python3.7/dist-packages (from pytest->allennlp==1.0.0->-r requirements.txt (line 7)) (21.2.0)\n",
            "Requirement already satisfied: setuptools in /usr/local/lib/python3.7/dist-packages (from pytest->allennlp==1.0.0->-r requirements.txt (line 7)) (57.0.0)\n",
            "Requirement already satisfied: py>=1.5.0 in /usr/local/lib/python3.7/dist-packages (from pytest->allennlp==1.0.0->-r requirements.txt (line 7)) (1.10.0)\n",
            "Requirement already satisfied: pluggy<0.8,>=0.5 in /usr/local/lib/python3.7/dist-packages (from pytest->allennlp==1.0.0->-r requirements.txt (line 7)) (0.7.1)\n",
            "Requirement already satisfied: blis<0.5.0,>=0.4.0 in /usr/local/lib/python3.7/dist-packages (from spacy<2.3,>=2.1.0->allennlp==1.0.0->-r requirements.txt (line 7)) (0.4.1)\n",
            "Requirement already satisfied: cymem<2.1.0,>=2.0.2 in /usr/local/lib/python3.7/dist-packages (from spacy<2.3,>=2.1.0->allennlp==1.0.0->-r requirements.txt (line 7)) (2.0.5)\n",
            "Requirement already satisfied: srsly<1.1.0,>=1.0.2 in /usr/local/lib/python3.7/dist-packages (from spacy<2.3,>=2.1.0->allennlp==1.0.0->-r requirements.txt (line 7)) (1.0.5)\n",
            "Requirement already satisfied: wasabi<1.1.0,>=0.4.0 in /usr/local/lib/python3.7/dist-packages (from spacy<2.3,>=2.1.0->allennlp==1.0.0->-r requirements.txt (line 7)) (0.8.2)\n",
            "Requirement already satisfied: plac<1.2.0,>=0.9.6 in /usr/local/lib/python3.7/dist-packages (from spacy<2.3,>=2.1.0->allennlp==1.0.0->-r requirements.txt (line 7)) (1.1.3)\n",
            "Requirement already satisfied: catalogue<1.1.0,>=0.0.7 in /usr/local/lib/python3.7/dist-packages (from spacy<2.3,>=2.1.0->allennlp==1.0.0->-r requirements.txt (line 7)) (1.0.0)\n",
            "Requirement already satisfied: preshed<3.1.0,>=3.0.2 in /usr/local/lib/python3.7/dist-packages (from spacy<2.3,>=2.1.0->allennlp==1.0.0->-r requirements.txt (line 7)) (3.0.5)\n",
            "Requirement already satisfied: murmurhash<1.1.0,>=0.28.0 in /usr/local/lib/python3.7/dist-packages (from spacy<2.3,>=2.1.0->allennlp==1.0.0->-r requirements.txt (line 7)) (1.0.5)\n",
            "Requirement already satisfied: thinc==7.4.0 in /usr/local/lib/python3.7/dist-packages (from spacy<2.3,>=2.1.0->allennlp==1.0.0->-r requirements.txt (line 7)) (7.4.0)\n",
            "Requirement already satisfied: s3transfer<0.5.0,>=0.4.0 in /usr/local/lib/python3.7/dist-packages (from boto3->allennlp==1.0.0->-r requirements.txt (line 7)) (0.4.2)\n",
            "Requirement already satisfied: jmespath<1.0.0,>=0.7.1 in /usr/local/lib/python3.7/dist-packages (from boto3->allennlp==1.0.0->-r requirements.txt (line 7)) (0.10.0)\n",
            "Requirement already satisfied: botocore<1.21.0,>=1.20.101 in /usr/local/lib/python3.7/dist-packages (from boto3->allennlp==1.0.0->-r requirements.txt (line 7)) (1.20.101)\n",
            "Requirement already satisfied: protobuf>=3.8.0 in /usr/local/lib/python3.7/dist-packages (from tensorboardX>=1.2->allennlp==1.0.0->-r requirements.txt (line 7)) (3.12.4)\n",
            "Requirement already satisfied: cached-property; python_version < \"3.8\" in /usr/local/lib/python3.7/dist-packages (from h5py->allennlp==1.0.0->-r requirements.txt (line 7)) (1.5.2)\n",
            "Requirement already satisfied: importlib-metadata; python_version < \"3.8\" in /usr/local/lib/python3.7/dist-packages (from jsonpickle->allennlp==1.0.0->-r requirements.txt (line 7)) (4.5.0)\n",
            "Requirement already satisfied: certifi>=2017.4.17 in /usr/local/lib/python3.7/dist-packages (from requests>=2.18->allennlp==1.0.0->-r requirements.txt (line 7)) (2021.5.30)\n",
            "Requirement already satisfied: idna<3,>=2.5 in /usr/local/lib/python3.7/dist-packages (from requests>=2.18->allennlp==1.0.0->-r requirements.txt (line 7)) (2.10)\n",
            "Requirement already satisfied: chardet<4,>=3.0.2 in /usr/local/lib/python3.7/dist-packages (from requests>=2.18->allennlp==1.0.0->-r requirements.txt (line 7)) (3.0.4)\n",
            "Requirement already satisfied: urllib3!=1.25.0,!=1.25.1,<1.26,>=1.21.1 in /usr/local/lib/python3.7/dist-packages (from requests>=2.18->allennlp==1.0.0->-r requirements.txt (line 7)) (1.24.3)\n",
            "Requirement already satisfied: joblib>=0.11 in /usr/local/lib/python3.7/dist-packages (from scikit-learn->allennlp==1.0.0->-r requirements.txt (line 7)) (1.0.1)\n",
            "Requirement already satisfied: packaging in /usr/local/lib/python3.7/dist-packages (from transformers<2.12,>=2.9->allennlp==1.0.0->-r requirements.txt (line 7)) (20.9)\n",
            "Requirement already satisfied: regex!=2019.12.17 in /usr/local/lib/python3.7/dist-packages (from transformers<2.12,>=2.9->allennlp==1.0.0->-r requirements.txt (line 7)) (2019.12.20)\n",
            "Requirement already satisfied: tokenizers==0.7.0 in /usr/local/lib/python3.7/dist-packages (from transformers<2.12,>=2.9->allennlp==1.0.0->-r requirements.txt (line 7)) (0.7.0)\n",
            "Requirement already satisfied: sacremoses in /usr/local/lib/python3.7/dist-packages (from transformers<2.12,>=2.9->allennlp==1.0.0->-r requirements.txt (line 7)) (0.0.45)\n",
            "Requirement already satisfied: typing-extensions>=3.6.4; python_version < \"3.8\" in /usr/local/lib/python3.7/dist-packages (from importlib-metadata; python_version < \"3.8\"->jsonpickle->allennlp==1.0.0->-r requirements.txt (line 7)) (3.7.4.3)\n",
            "Requirement already satisfied: zipp>=0.5 in /usr/local/lib/python3.7/dist-packages (from importlib-metadata; python_version < \"3.8\"->jsonpickle->allennlp==1.0.0->-r requirements.txt (line 7)) (3.4.1)\n",
            "Requirement already satisfied: pyparsing>=2.0.2 in /usr/local/lib/python3.7/dist-packages (from packaging->transformers<2.12,>=2.9->allennlp==1.0.0->-r requirements.txt (line 7)) (2.4.7)\n",
            "Requirement already satisfied: click in /usr/local/lib/python3.7/dist-packages (from sacremoses->transformers<2.12,>=2.9->allennlp==1.0.0->-r requirements.txt (line 7)) (7.1.2)\n"
          ],
          "name": "stdout"
        }
      ]
    },
    {
      "cell_type": "code",
      "metadata": {
        "id": "dVXvBGdj-Dnn"
      },
      "source": [
        "#%rm -rf data/data_examples_root_1/"
      ],
      "execution_count": null,
      "outputs": []
    },
    {
      "cell_type": "code",
      "metadata": {
        "id": "Y-reLL1G_6Fg"
      },
      "source": [
        "#%rm -rf data/test_data_example_1/"
      ],
      "execution_count": null,
      "outputs": []
    },
    {
      "cell_type": "code",
      "metadata": {
        "colab": {
          "base_uri": "https://localhost:8080/"
        },
        "id": "HXkitBsn__r7",
        "outputId": "3d2d6896-1b5f-4374-9966-432015e11d9a"
      },
      "source": [
        "! python train.py -c config.json"
      ],
      "execution_count": null,
      "outputs": [
        {
          "output_type": "stream",
          "text": [
            "2021-06-28 17:25:16.063126: I tensorflow/stream_executor/platform/default/dso_loader.cc:53] Successfully opened dynamic library libcudart.so.11.0\n",
            "torch.cuda.device_count() 1\n",
            "torch.cuda.device_count() 1\n",
            "torch.cuda.device_count() 1\n",
            "[2021-06-28 17:25:18,065 - train - INFO] - One GPU or CPU training mode start...\n",
            "[2021-06-28 17:25:18,075 - train - INFO] - Dataloader instances created. Train datasets: 171 samples Validation datasets: 171 samples.\n",
            "[2021-06-28 17:25:18,867 - train - INFO] - Model created, trainable parameters: 68584426.\n",
            "[2021-06-28 17:25:18,868 - train - INFO] - Optimizer and lr_scheduler created.\n",
            "[2021-06-28 17:25:18,869 - train - INFO] - Max_epochs: 100 Log_per_step: 10 Validation_per_step: 50.\n",
            "[2021-06-28 17:25:18,869 - train - INFO] - Training start...\n",
            "torch.cuda.is_available() True\n",
            "n_gpu_use 1\n",
            "torch.cuda.device_count() 1\n",
            "[2021-06-28 17:25:18,871 - trainer - WARNING] - Training is using GPU 0!\n"
          ],
          "name": "stdout"
        }
      ]
    },
    {
      "cell_type": "code",
      "metadata": {
        "colab": {
          "base_uri": "https://localhost:8080/"
        },
        "id": "actQ9da9nFGj",
        "outputId": "3c84cfb1-2660-4e8b-989e-fe3516ce721c"
      },
      "source": [
        "! python test.py --checkpoint saved/models/PICK_Default/test_0628_120717/model_best.pth --boxes_transcripts data/test_data_example/boxes_and_transripts \\\n",
        "               --images_path data/test_data_example/images --output_folder output \\\n",
        "               --gpu 0 --batch_size 2\n"
      ],
      "execution_count": null,
      "outputs": [
        {
          "output_type": "stream",
          "text": [
            "2021-06-28 17:15:39.561780: I tensorflow/stream_executor/platform/default/dso_loader.cc:53] Successfully opened dynamic library libcudart.so.11.0\n",
            "Loading checkpoint: saved/models/PICK_Default/test_0628_120717/model_best.pth \n",
            "with saved mEF 0.0000 ...\n",
            "2it [00:03,  1.51s/it]\n"
          ],
          "name": "stdout"
        }
      ]
    },
    {
      "cell_type": "code",
      "metadata": {
        "colab": {
          "base_uri": "https://localhost:8080/"
        },
        "id": "BppVKGFcRIgp",
        "outputId": "e192bc5e-0d36-4726-843d-0567859e53bc"
      },
      "source": [
        "import os\n",
        "import argparse\n",
        "import collections\n",
        "\n",
        "import numpy as np\n",
        "import torch\n",
        "import torch.distributed as dist\n",
        "from torch.nn.parallel import DistributedDataParallel as DDP\n",
        "\n",
        "import model.pick as pick_arch_module\n",
        "from data_utils import pick_dataset as pick_dataset_module\n",
        "\n",
        "from data_utils.pick_dataset import BatchCollateFn\n",
        "from parse_config import ConfigParser\n",
        "from trainer import Trainer\n",
        "\n",
        "import torch.nn as nn\n",
        "import torch.optim as optim\n",
        "\n",
        "# fix random seeds for reproducibility\n",
        "SEED = 123\n",
        "torch.manual_seed(SEED)\n",
        "torch.backends.cudnn.deterministic = True\n",
        "torch.backends.cudnn.benchmark = True\n",
        "np.random.seed(SEED)\n",
        "\n",
        "print(torch.cuda.is_available())\n",
        "print(torch.cuda.device_count())\n",
        "torch.backends.cudnn.benchmark = False\n",
        "print(torch.cuda.is_available())\n",
        "print(torch.cuda.device_count())"
      ],
      "execution_count": null,
      "outputs": [
        {
          "output_type": "stream",
          "text": [
            "True\n",
            "1\n",
            "True\n",
            "1\n"
          ],
          "name": "stdout"
        }
      ]
    },
    {
      "cell_type": "code",
      "metadata": {
        "colab": {
          "base_uri": "https://localhost:8080/"
        },
        "id": "F350YBU-cGNT",
        "outputId": "cb95aba5-f9d7-47ac-c829-cee7528c21e3"
      },
      "source": [
        "! python temp_script.py"
      ],
      "execution_count": null,
      "outputs": [
        {
          "output_type": "stream",
          "text": [
            "True\n",
            "1\n"
          ],
          "name": "stdout"
        }
      ]
    }
  ]
}